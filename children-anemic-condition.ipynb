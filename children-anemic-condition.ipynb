{
 "cells": [
  {
   "cell_type": "code",
   "execution_count": null,
   "id": "04de7c1f",
   "metadata": {
    "local_metadata": {
     "papermill": {
      "duration": 2.590893,
      "end_time": "2024-03-13T12:58:53.471402",
      "exception": false,
      "start_time": "2024-03-13T12:58:50.880509",
      "status": "completed"
     },
     "tags": []
    },
    "remote_metadata": {
     "execution": {
      "iopub.execute_input": "2024-03-13T12:58:50.899801Z",
      "iopub.status.busy": "2024-03-13T12:58:50.899386Z",
      "iopub.status.idle": "2024-03-13T12:58:53.468371Z",
      "shell.execute_reply": "2024-03-13T12:58:53.467421Z"
     },
     "papermill": {
      "duration": 2.590893,
      "end_time": "2024-03-13T12:58:53.471402",
      "exception": false,
      "start_time": "2024-03-13T12:58:50.880509",
      "status": "completed"
     },
     "tags": []
    }
   },
   "outputs": [],
   "source": [
    "# import libraries\n",
    "import pandas as pd\n",
    "import numpy as np\n",
    "import matplotlib.pyplot as plt\n",
    "import seaborn as sns\n",
    "import missingno as msno\n",
    "import warnings\n",
    "from sklearn.compose import ColumnTransformer\n",
    "from sklearn.pipeline import make_pipeline,Pipeline\n",
    "from sklearn.ensemble import RandomForestClassifier\n",
    "from sklearn.model_selection import train_test_split, GridSearchCV\n",
    "from sklearn.preprocessing import LabelEncoder, StandardScaler, OneHotEncoder\n",
    "from sklearn.metrics import classification_report, confusion_matrix\n",
    "from sklearn.neighbors import KNeighborsClassifier\n",
    "from sklearn.linear_model import LogisticRegression\n",
    "import warnings\n"
   ]
  },
  {
   "cell_type": "code",
   "execution_count": null,
   "id": "d1d4dbd1",
   "metadata": {
    "local_metadata": {
     "papermill": {
      "duration": 0.029112,
      "end_time": "2024-03-13T12:58:53.518125",
      "exception": false,
      "start_time": "2024-03-13T12:58:53.489013",
      "status": "completed"
     },
     "tags": []
    },
    "remote_metadata": {
     "execution": {
      "iopub.execute_input": "2024-03-13T12:58:53.50859Z",
      "iopub.status.busy": "2024-03-13T12:58:53.507186Z",
      "iopub.status.idle": "2024-03-13T12:58:53.515153Z",
      "shell.execute_reply": "2024-03-13T12:58:53.513882Z"
     },
     "papermill": {
      "duration": 0.029112,
      "end_time": "2024-03-13T12:58:53.518125",
      "exception": false,
      "start_time": "2024-03-13T12:58:53.489013",
      "status": "completed"
     },
     "tags": []
    }
   },
   "outputs": [],
   "source": [
    "warnings.filterwarnings('ignore')"
   ]
  },
  {
   "cell_type": "code",
   "execution_count": null,
   "id": "48664f41",
   "metadata": {
    "local_metadata": {
     "papermill": {
      "duration": 0.200051,
      "end_time": "2024-03-13T12:58:53.734561",
      "exception": false,
      "start_time": "2024-03-13T12:58:53.53451",
      "status": "completed"
     },
     "tags": []
    },
    "remote_metadata": {
     "execution": {
      "iopub.execute_input": "2024-03-13T12:58:53.55331Z",
      "iopub.status.busy": "2024-03-13T12:58:53.552004Z",
      "iopub.status.idle": "2024-03-13T12:58:53.731663Z",
      "shell.execute_reply": "2024-03-13T12:58:53.730836Z"
     },
     "papermill": {
      "duration": 0.200051,
      "end_time": "2024-03-13T12:58:53.734561",
      "exception": false,
      "start_time": "2024-03-13T12:58:53.53451",
      "status": "completed"
     },
     "tags": []
    }
   },
   "outputs": [],
   "source": [
    "# read data\n",
    "data = pd.read_csv(r'children anemia.csv')"
   ]
  },
  {
   "cell_type": "markdown",
   "id": "a5475787",
   "metadata": {},
   "source": [
    "## WRANGLING"
   ]
  },
  {
   "cell_type": "code",
   "execution_count": null,
   "id": "b83db8cc",
   "metadata": {
    "local_metadata": {
     "papermill": {
      "duration": 0.064771,
      "end_time": "2024-03-13T12:58:53.816302",
      "exception": false,
      "start_time": "2024-03-13T12:58:53.751531",
      "status": "completed"
     },
     "scrolled": true,
     "tags": []
    },
    "remote_metadata": {
     "execution": {
      "iopub.execute_input": "2024-03-13T12:58:53.771088Z",
      "iopub.status.busy": "2024-03-13T12:58:53.769893Z",
      "iopub.status.idle": "2024-03-13T12:58:53.813035Z",
      "shell.execute_reply": "2024-03-13T12:58:53.811694Z"
     },
     "papermill": {
      "duration": 0.064771,
      "end_time": "2024-03-13T12:58:53.816302",
      "exception": false,
      "start_time": "2024-03-13T12:58:53.751531",
      "status": "completed"
     },
     "scrolled": true,
     "tags": []
    }
   },
   "outputs": [],
   "source": [
    "data.head()"
   ]
  },
  {
   "cell_type": "code",
   "execution_count": null,
   "id": "45e52301",
   "metadata": {},
   "outputs": [],
   "source": [
    "data.info()"
   ]
  },
  {
   "cell_type": "code",
   "execution_count": null,
   "id": "de8612b8",
   "metadata": {},
   "outputs": [],
   "source": [
    "data['Anemia level'].fillna(data['Anemia level.1'], inplace=True)"
   ]
  },
  {
   "cell_type": "code",
   "execution_count": null,
   "id": "d73ffe02",
   "metadata": {},
   "outputs": [],
   "source": [
    "msno.matrix(data)"
   ]
  },
  {
   "cell_type": "code",
   "execution_count": null,
   "id": "4848707a",
   "metadata": {},
   "outputs": [],
   "source": [
    "print('Percentage of missing data')\n",
    "round(data.isna().sum().sort_values(ascending=False)/data.shape[0],2)"
   ]
  },
  {
   "cell_type": "code",
   "execution_count": null,
   "id": "a369f37b-3fde-48fe-921d-1df2a33639f2",
   "metadata": {},
   "outputs": [],
   "source": [
    "def sep_num(num):\n",
    "    \"\"\"\n",
    "    Function converts time values to minutes\n",
    "    \"\"\"\n",
    "    try :\n",
    "        if num.lower().startswith('immed'):\n",
    "            return 1\n",
    "        else:\n",
    "            return int(float(num))//60\n",
    "    except (ValueError,AttributeError):\n",
    "        if num is not np.nan:\n",
    "            res = num.split(':')\n",
    "            if res[0].lower().startswith('hours'):\n",
    "                return int(res[1])*60\n",
    "            elif res[0].lower().startswith('day'):\n",
    "                return int(res[1])*24*60 \n",
    "        else:\n",
    "            return num"
   ]
  },
  {
   "cell_type": "code",
   "execution_count": null,
   "id": "fc581faa",
   "metadata": {
    "scrolled": true
   },
   "outputs": [],
   "source": [
    "data['When child put to breast'] = data['When child put to breast'].map(sep_num)"
   ]
  },
  {
   "cell_type": "code",
   "execution_count": null,
   "id": "06ae2149-bb3a-4b8a-89b5-3dc46f900845",
   "metadata": {},
   "outputs": [],
   "source": [
    "data.dtypes.value_counts()"
   ]
  },
  {
   "cell_type": "code",
   "execution_count": null,
   "id": "826c0507-f1d4-4bac-bcc0-bb581c5e3a52",
   "metadata": {},
   "outputs": [],
   "source": [
    "data['Smokes cigarettes'].replace({'No':False,'Yes':True}, inplace=True)\n",
    "data['Currently residing with husband/partner'].replace({'No':False,'Yes':True}, inplace=True)\n",
    "data['Have mosquito bed net for sleeping (from household questionnaire)'].replace({'No':False,'Yes':True}, inplace=True)"
   ]
  },
  {
   "cell_type": "code",
   "execution_count": null,
   "id": "6e665728-6df6-4410-b7b2-dc32334ba158",
   "metadata": {},
   "outputs": [],
   "source": [
    "data.head()"
   ]
  },
  {
   "cell_type": "code",
   "execution_count": null,
   "id": "559f2945",
   "metadata": {
    "execution": {
     "iopub.execute_input": "2024-03-13T12:58:53.852644Z",
     "iopub.status.busy": "2024-03-13T12:58:53.85223Z",
     "iopub.status.idle": "2024-03-13T12:58:53.923407Z",
     "shell.execute_reply": "2024-03-13T12:58:53.92209Z"
    },
    "papermill": {
     "duration": 0.092823,
     "end_time": "2024-03-13T12:58:53.926801",
     "exception": false,
     "start_time": "2024-03-13T12:58:53.833978",
     "status": "completed"
    },
    "tags": []
   },
   "outputs": [],
   "source": [
    "age_group = data.iloc[:,0].apply(lambda x: int(str(x).split('-')[1]) - int(str(x).split('-')[0]))"
   ]
  },
  {
   "cell_type": "code",
   "execution_count": null,
   "id": "70e44e5b",
   "metadata": {
    "local_metadata": {
     "papermill": {
      "duration": 0.079166,
      "end_time": "2024-03-13T12:58:54.024128",
      "exception": false,
      "start_time": "2024-03-13T12:58:53.944962",
      "status": "completed"
     },
     "tags": []
    },
    "remote_metadata": {
     "execution": {
      "iopub.execute_input": "2024-03-13T12:58:53.963941Z",
      "iopub.status.busy": "2024-03-13T12:58:53.963534Z",
      "iopub.status.idle": "2024-03-13T12:58:54.021015Z",
      "shell.execute_reply": "2024-03-13T12:58:54.019793Z"
     },
     "papermill": {
      "duration": 0.079166,
      "end_time": "2024-03-13T12:58:54.024128",
      "exception": false,
      "start_time": "2024-03-13T12:58:53.944962",
      "status": "completed"
     },
     "tags": []
    }
   },
   "outputs": [],
   "source": [
    "# display number of uique elements in the numeric columns in the dataframe\n",
    "data.select_dtypes(exclude='number').nunique().sort_values()\n"
   ]
  },
  {
   "cell_type": "code",
   "execution_count": null,
   "id": "06ef628c-1540-495c-ba45-287cc267db28",
   "metadata": {},
   "outputs": [],
   "source": [
    "data.rename(columns={'Type of place of residence':'residence type', 'Highest educational level':'education level',\n",
    "                     'Smokes cigarettes':'smokes','Current marital status':'marital status',\n",
    "                     'Taking iron pills, sprinkles or syrup':'takes supplements','Have mosquito bed net for sleeping (from household questionnaire)':'sleeps under mosquito net',\n",
    "                     'Anemia level':'Anemia'},inplace=True)"
   ]
  },
  {
   "cell_type": "code",
   "execution_count": null,
   "id": "491fba6a",
   "metadata": {
    "local_metadata": {
     "papermill": {
      "duration": 0.071047,
      "end_time": "2024-03-13T12:58:54.11252",
      "exception": false,
      "start_time": "2024-03-13T12:58:54.041473",
      "status": "completed"
     },
     "tags": []
    },
    "remote_metadata": {
     "execution": {
      "iopub.execute_input": "2024-03-13T12:58:54.061439Z",
      "iopub.status.busy": "2024-03-13T12:58:54.061025Z",
      "iopub.status.idle": "2024-03-13T12:58:54.109456Z",
      "shell.execute_reply": "2024-03-13T12:58:54.108212Z"
     },
     "papermill": {
      "duration": 0.071047,
      "end_time": "2024-03-13T12:58:54.11252",
      "exception": false,
      "start_time": "2024-03-13T12:58:54.041473",
      "status": "completed"
     },
     "tags": []
    }
   },
   "outputs": [],
   "source": [
    "# drop duplicate rows\n",
    "data_non = data.drop_duplicates()"
   ]
  },
  {
   "cell_type": "code",
   "execution_count": null,
   "id": "1000241d-f1fb-4a6b-8bc0-bdbf792888e0",
   "metadata": {},
   "outputs": [],
   "source": [
    "data_non.isna().sum().sort_values(ascending=False)"
   ]
  },
  {
   "cell_type": "code",
   "execution_count": null,
   "id": "f8049a84",
   "metadata": {
    "local_metadata": {
     "papermill": {
      "duration": 0.034315,
      "end_time": "2024-03-13T12:58:54.164422",
      "exception": false,
      "start_time": "2024-03-13T12:58:54.130107",
      "status": "completed"
     },
     "tags": []
    },
    "remote_metadata": {
     "execution": {
      "iopub.execute_input": "2024-03-13T12:58:54.149369Z",
      "iopub.status.busy": "2024-03-13T12:58:54.148927Z",
      "iopub.status.idle": "2024-03-13T12:58:54.161598Z",
      "shell.execute_reply": "2024-03-13T12:58:54.160328Z"
     },
     "papermill": {
      "duration": 0.034315,
      "end_time": "2024-03-13T12:58:54.164422",
      "exception": false,
      "start_time": "2024-03-13T12:58:54.130107",
      "status": "completed"
     },
     "tags": []
    }
   },
   "outputs": [],
   "source": [
    "# fill all null values in the numerical data type category\n",
    "data_non[data_non.select_dtypes('number').columns] = data_non.select_dtypes('number').apply(lambda x: x.fillna(round(np.mean(x),1)), axis=0)"
   ]
  },
  {
   "cell_type": "code",
   "execution_count": null,
   "id": "23d65b7c",
   "metadata": {
    "execution": {
     "iopub.execute_input": "2024-03-13T12:58:54.200563Z",
     "iopub.status.busy": "2024-03-13T12:58:54.200103Z",
     "iopub.status.idle": "2024-03-13T12:58:54.229631Z",
     "shell.execute_reply": "2024-03-13T12:58:54.228136Z"
    },
    "papermill": {
     "duration": 0.050296,
     "end_time": "2024-03-13T12:58:54.23222",
     "exception": false,
     "start_time": "2024-03-13T12:58:54.181924",
     "status": "completed"
    },
    "tags": []
   },
   "outputs": [],
   "source": [
    "data_non.isnull().sum()"
   ]
  },
  {
   "cell_type": "code",
   "execution_count": null,
   "id": "131866a8",
   "metadata": {
    "local_metadata": {
     "papermill": {
      "duration": 0.026391,
      "end_time": "2024-03-13T12:58:54.275199",
      "exception": false,
      "start_time": "2024-03-13T12:58:54.248808",
      "status": "completed"
     },
     "tags": []
    },
    "remote_metadata": {
     "execution": {
      "iopub.execute_input": "2024-03-13T12:58:54.268574Z",
      "iopub.status.busy": "2024-03-13T12:58:54.267102Z",
      "iopub.status.idle": "2024-03-13T12:58:54.272922Z",
      "shell.execute_reply": "2024-03-13T12:58:54.271825Z"
     },
     "papermill": {
      "duration": 0.026391,
      "end_time": "2024-03-13T12:58:54.275199",
      "exception": false,
      "start_time": "2024-03-13T12:58:54.248808",
      "status": "completed"
     },
     "tags": []
    }
   },
   "outputs": [],
   "source": [
    "data_non = data_non.dropna(axis=0)"
   ]
  },
  {
   "cell_type": "code",
   "execution_count": null,
   "id": "99d2a440",
   "metadata": {},
   "outputs": [],
   "source": [
    "# reset dataframe index\n",
    "data_non.reset_index(drop = True, inplace= True)"
   ]
  },
  {
   "cell_type": "code",
   "execution_count": null,
   "id": "522b9880",
   "metadata": {
    "execution": {
     "iopub.execute_input": "2024-03-13T12:58:54.311912Z",
     "iopub.status.busy": "2024-03-13T12:58:54.311399Z",
     "iopub.status.idle": "2024-03-13T12:58:54.371883Z",
     "shell.execute_reply": "2024-03-13T12:58:54.370605Z"
    },
    "papermill": {
     "duration": 0.082696,
     "end_time": "2024-03-13T12:58:54.375042",
     "exception": false,
     "start_time": "2024-03-13T12:58:54.292346",
     "status": "completed"
    },
    "tags": []
   },
   "outputs": [],
   "source": [
    "# forward and backward fill of other null values\n",
    "data_non = data_non.ffill(limit=3).bfill(limit=3)"
   ]
  },
  {
   "cell_type": "code",
   "execution_count": null,
   "id": "9fefb989",
   "metadata": {
    "local_metadata": {
     "papermill": {
      "duration": 0.126155,
      "end_time": "2024-03-13T12:58:54.517967",
      "exception": false,
      "start_time": "2024-03-13T12:58:54.391812",
      "status": "completed"
     },
     "tags": []
    },
    "remote_metadata": {
     "execution": {
      "iopub.execute_input": "2024-03-13T12:58:54.481952Z",
      "iopub.status.busy": "2024-03-13T12:58:54.48069Z",
      "iopub.status.idle": "2024-03-13T12:58:54.514709Z",
      "shell.execute_reply": "2024-03-13T12:58:54.512788Z"
     },
     "papermill": {
      "duration": 0.126155,
      "end_time": "2024-03-13T12:58:54.517967",
      "exception": false,
      "start_time": "2024-03-13T12:58:54.391812",
      "status": "completed"
     },
     "tags": []
    }
   },
   "outputs": [],
   "source": [
    "# check if any value is missing\n",
    "data_non.isnull().sum().sum()"
   ]
  },
  {
   "cell_type": "code",
   "execution_count": null,
   "id": "c16ad794",
   "metadata": {
    "execution": {
     "iopub.execute_input": "2024-03-13T12:58:54.554878Z",
     "iopub.status.busy": "2024-03-13T12:58:54.554065Z",
     "iopub.status.idle": "2024-03-13T12:58:54.579044Z",
     "shell.execute_reply": "2024-03-13T12:58:54.577737Z"
    },
    "papermill": {
     "duration": 0.047217,
     "end_time": "2024-03-13T12:58:54.582322",
     "exception": false,
     "start_time": "2024-03-13T12:58:54.535105",
     "status": "completed"
    },
    "tags": []
   },
   "outputs": [],
   "source": [
    "# count values of all columns in the dataframe\n",
    "print('Number of unique values in each column:\\n')\n",
    "for col in data_non.columns:\n",
    "    print(f'{col} = {data_non[col].nunique():<10}')"
   ]
  },
  {
   "cell_type": "code",
   "execution_count": null,
   "id": "ede5b972",
   "metadata": {
    "execution": {
     "iopub.execute_input": "2024-03-13T12:58:54.61967Z",
     "iopub.status.busy": "2024-03-13T12:58:54.619206Z",
     "iopub.status.idle": "2024-03-13T12:58:54.631432Z",
     "shell.execute_reply": "2024-03-13T12:58:54.630199Z"
    },
    "papermill": {
     "duration": 0.033447,
     "end_time": "2024-03-13T12:58:54.633841",
     "exception": false,
     "start_time": "2024-03-13T12:58:54.600394",
     "status": "completed"
    },
    "tags": []
   },
   "outputs": [],
   "source": [
    "# drop column 'When child put to breast' because it is not labelled properly\n",
    "data_non.drop(['When child put to breast','Anemia level.1'],axis= 1,inplace=True)"
   ]
  },
  {
   "cell_type": "code",
   "execution_count": null,
   "id": "ee928a12",
   "metadata": {
    "local_metadata": {
     "papermill": {
      "duration": 0.048192,
      "end_time": "2024-03-13T12:58:54.699047",
      "exception": false,
      "start_time": "2024-03-13T12:58:54.650855",
      "status": "completed"
     },
     "tags": []
    },
    "remote_metadata": {
     "execution": {
      "iopub.execute_input": "2024-03-13T12:58:54.670953Z",
      "iopub.status.busy": "2024-03-13T12:58:54.669988Z",
      "iopub.status.idle": "2024-03-13T12:58:54.696293Z",
      "shell.execute_reply": "2024-03-13T12:58:54.694855Z"
     },
     "papermill": {
      "duration": 0.048192,
      "end_time": "2024-03-13T12:58:54.699047",
      "exception": false,
      "start_time": "2024-03-13T12:58:54.650855",
      "status": "completed"
     },
     "tags": []
    }
   },
   "outputs": [],
   "source": [
    "# rename and get the average of the age groups\n",
    "data_non['Age in 5-year groups'] = data_non[\"Age in 5-year groups\"].apply(lambda x:sum(map(int,x.split('-')))/2).astype(int)\n",
    "data_non.rename(columns= {'Age in 5-year groups':'Age average'}, inplace = True)"
   ]
  },
  {
   "cell_type": "code",
   "execution_count": null,
   "id": "500c96b9-5551-4504-ae25-1a59e0e71bc4",
   "metadata": {},
   "outputs": [],
   "source": [
    "data_non['Anemia'] = data_non['Anemia'].apply(lambda x : False if x == 'Not anemic' else not False)"
   ]
  },
  {
   "cell_type": "code",
   "execution_count": null,
   "id": "d6060512",
   "metadata": {},
   "outputs": [],
   "source": [
    "age_anemia_counts = pd.crosstab(index=data_non['Age of respondent at 1st birth'], columns=data_non['Anemia'])\n",
    "age_anemia_counts"
   ]
  },
  {
   "cell_type": "code",
   "execution_count": null,
   "id": "07cf0fa3",
   "metadata": {},
   "outputs": [],
   "source": [
    "fig = plt.Figure((30,30))\n",
    "age_anemia_counts.plot(kind='bar', stacked=False)\n",
    "plt.xlabel('Age at 1st birth')\n",
    "plt.ylabel('Count')\n",
    "plt.title('Anemia by Age at 1st birth')\n",
    "plt.xticks(rotation=45)\n",
    "plt.show()"
   ]
  },
  {
   "cell_type": "code",
   "execution_count": null,
   "id": "5cdf84c8",
   "metadata": {
    "execution": {
     "iopub.execute_input": "2024-03-13T12:58:54.735896Z",
     "iopub.status.busy": "2024-03-13T12:58:54.734797Z",
     "iopub.status.idle": "2024-03-13T12:58:54.758911Z",
     "shell.execute_reply": "2024-03-13T12:58:54.757802Z"
    },
    "papermill": {
     "duration": 0.045308,
     "end_time": "2024-03-13T12:58:54.761628",
     "exception": false,
     "start_time": "2024-03-13T12:58:54.71632",
     "status": "completed"
    },
    "tags": []
   },
   "outputs": [],
   "source": [
    "data_non.tail()"
   ]
  },
  {
   "cell_type": "code",
   "execution_count": null,
   "id": "b7810361",
   "metadata": {
    "execution": {
     "iopub.execute_input": "2024-03-13T12:58:54.799561Z",
     "iopub.status.busy": "2024-03-13T12:58:54.798253Z",
     "iopub.status.idle": "2024-03-13T12:58:54.820582Z",
     "shell.execute_reply": "2024-03-13T12:58:54.819368Z"
    },
    "papermill": {
     "duration": 0.043857,
     "end_time": "2024-03-13T12:58:54.823131",
     "exception": false,
     "start_time": "2024-03-13T12:58:54.779274",
     "status": "completed"
    },
    "tags": []
   },
   "outputs": [],
   "source": [
    "data_non['Type of place of residence'].replace({'Urban':1,'Rural':0})"
   ]
  },
  {
   "cell_type": "code",
   "execution_count": null,
   "id": "7bf8c5b6",
   "metadata": {
    "local_metadata": {
     "papermill": {
      "duration": 0.033647,
      "end_time": "2024-03-13T12:58:54.874523",
      "exception": false,
      "start_time": "2024-03-13T12:58:54.840876",
      "status": "completed"
     },
     "tags": []
    },
    "remote_metadata": {
     "execution": {
      "iopub.execute_input": "2024-03-13T12:58:54.861843Z",
      "iopub.status.busy": "2024-03-13T12:58:54.861354Z",
      "iopub.status.idle": "2024-03-13T12:58:54.871744Z",
      "shell.execute_reply": "2024-03-13T12:58:54.870475Z"
     },
     "papermill": {
      "duration": 0.033647,
      "end_time": "2024-03-13T12:58:54.874523",
      "exception": false,
      "start_time": "2024-03-13T12:58:54.840876",
      "status": "completed"
     },
     "tags": []
    }
   },
   "outputs": [],
   "source": [
    "# difference of respondents age to the age at first birth\n",
    "diff_age = np.abs(np.where(data_non['Age average'] - data_non['Age of respondent at 1st birth']==0, 1,(data_non['Age average'] - data_non['Age of respondent at 1st birth'])))\n",
    "# checks for respondents rate of birth\n",
    "data_non['avg_child_year'] = np.ceil(diff_age/data_non['Births in last five years']).astype(int)\n",
    "\n",
    "sns.scatterplot(data_non, x='Births in last five years', y='avg_child_year', hue='Anemia')"
   ]
  },
  {
   "cell_type": "code",
   "execution_count": null,
   "id": "daaa37d3",
   "metadata": {
    "execution": {
     "iopub.execute_input": "2024-03-13T12:58:54.913495Z",
     "iopub.status.busy": "2024-03-13T12:58:54.913003Z",
     "iopub.status.idle": "2024-03-13T12:58:54.934226Z",
     "shell.execute_reply": "2024-03-13T12:58:54.933215Z"
    },
    "papermill": {
     "duration": 0.04352,
     "end_time": "2024-03-13T12:58:54.93661",
     "exception": false,
     "start_time": "2024-03-13T12:58:54.89309",
     "status": "completed"
    },
    "tags": []
   },
   "outputs": [],
   "source": [
    "wealth_avg_birth.groupby('Wealth index combined').mean()"
   ]
  },
  {
   "cell_type": "code",
   "execution_count": null,
   "id": "bdbae2d4",
   "metadata": {
    "local_metadata": {
     "papermill": {
      "duration": 0.539095,
      "end_time": "2024-03-13T12:58:55.494019",
      "exception": false,
      "start_time": "2024-03-13T12:58:54.954924",
      "status": "completed"
     },
     "tags": []
    },
    "remote_metadata": {
     "execution": {
      "iopub.execute_input": "2024-03-13T12:58:54.975216Z",
      "iopub.status.busy": "2024-03-13T12:58:54.974804Z",
      "iopub.status.idle": "2024-03-13T12:58:55.490134Z",
      "shell.execute_reply": "2024-03-13T12:58:55.488198Z"
     },
     "papermill": {
      "duration": 0.539095,
      "end_time": "2024-03-13T12:58:55.494019",
      "exception": false,
      "start_time": "2024-03-13T12:58:54.954924",
      "status": "completed"
     },
     "tags": []
    }
   },
   "outputs": [],
   "source": [
    "wealth_n_condition = data_non[['Wealth index combined','Anemia']]\n",
    "ax = wealth_n_condition.groupby(['Wealth index combined','Anemia']).size().unstack().plot(kind='bar',)\n",
    "ax.legend(loc=4, bbox_to_anchor=(1.4,.0))"
   ]
  },
  {
   "cell_type": "code",
   "execution_count": null,
   "id": "968fc17e",
   "metadata": {},
   "outputs": [],
   "source": [
    "sns.scatterplot(data_non,x='Wealth index combined',y='avg_child_year', hue='Anemia')"
   ]
  },
  {
   "cell_type": "code",
   "execution_count": null,
   "id": "be0a691f",
   "metadata": {
    "execution": {
     "iopub.execute_input": "2024-03-13T12:58:55.533412Z",
     "iopub.status.busy": "2024-03-13T12:58:55.532752Z",
     "iopub.status.idle": "2024-03-13T12:58:55.538409Z",
     "shell.execute_reply": "2024-03-13T12:58:55.537163Z"
    },
    "papermill": {
     "duration": 0.028503,
     "end_time": "2024-03-13T12:58:55.541075",
     "exception": false,
     "start_time": "2024-03-13T12:58:55.512572",
     "status": "completed"
    },
    "tags": []
   },
   "outputs": [],
   "source": [
    "wealth_groups = wealth_avg_birth.groupby('Wealth index combined')"
   ]
  },
  {
   "cell_type": "code",
   "execution_count": null,
   "id": "498470b3",
   "metadata": {
    "execution": {
     "iopub.execute_input": "2024-03-13T12:58:55.580023Z",
     "iopub.status.busy": "2024-03-13T12:58:55.579622Z",
     "iopub.status.idle": "2024-03-13T12:58:56.954788Z",
     "shell.execute_reply": "2024-03-13T12:58:56.9532Z"
    },
    "papermill": {
     "duration": 1.397905,
     "end_time": "2024-03-13T12:58:56.957487",
     "exception": false,
     "start_time": "2024-03-13T12:58:55.559582",
     "status": "completed"
    },
    "tags": []
   },
   "outputs": [],
   "source": [
    "fig, axes = plt.subplots(3,2,figsize=(10,12))\n",
    "fig.set_alpha(0.5)\n",
    "axes = axes.flatten()\n",
    "for index,key in enumerate(list(wealth_groups.groups.keys())):\n",
    "    wealth_groups.get_group(key).plot(kind='box',ax=axes[index],label = key)\n",
    "    axes[index].set_title(key)\n",
    "axes[-1].axis('off')\n",
    "plt.tight_layout()"
   ]
  },
  {
   "cell_type": "code",
   "execution_count": null,
   "id": "a8d6c63b",
   "metadata": {
    "execution": {
     "iopub.execute_input": "2024-03-13T12:58:56.999276Z",
     "iopub.status.busy": "2024-03-13T12:58:56.998537Z",
     "iopub.status.idle": "2024-03-13T12:58:57.004792Z",
     "shell.execute_reply": "2024-03-13T12:58:57.00324Z"
    },
    "papermill": {
     "duration": 0.030599,
     "end_time": "2024-03-13T12:58:57.007606",
     "exception": false,
     "start_time": "2024-03-13T12:58:56.977007",
     "status": "completed"
    },
    "tags": []
   },
   "outputs": [],
   "source": [
    "# reset dataframe index\n",
    "data_non.reset_index(drop = True, inplace= True)"
   ]
  },
  {
   "cell_type": "code",
   "execution_count": null,
   "id": "540dadc2",
   "metadata": {
    "local_metadata": {
     "papermill": {
      "duration": 1.293631,
      "end_time": "2024-03-13T12:58:58.32155",
      "exception": false,
      "start_time": "2024-03-13T12:58:57.027919",
      "status": "completed"
     },
     "tags": []
    },
    "remote_metadata": {
     "execution": {
      "iopub.execute_input": "2024-03-13T12:58:57.049992Z",
      "iopub.status.busy": "2024-03-13T12:58:57.049455Z",
      "iopub.status.idle": "2024-03-13T12:58:58.317616Z",
      "shell.execute_reply": "2024-03-13T12:58:58.316678Z"
     },
     "papermill": {
      "duration": 1.293631,
      "end_time": "2024-03-13T12:58:58.32155",
      "exception": false,
      "start_time": "2024-03-13T12:58:57.027919",
      "status": "completed"
     },
     "tags": []
    }
   },
   "outputs": [],
   "source": [
    "# selected histogram plots\n",
    "fig,axes = plt.subplots(2,2,figsize=(10,6))\n",
    "axes = axes.flatten()\n",
    "\n",
    "data_non['Hemoglobin level adjusted for altitude and smoking (g/dl - 1 decimal)'].plot.hist(bins = 5,ax = axes[0], title = f'Hemoglobin level adjusted for \\n altitude and smoking')\n",
    "data_non['Hemoglobin level adjusted for altitude (g/dl - 1 decimal)'].plot.hist(bins = 5, ax = axes[1], title = 'Hemoglobin level adjusted for altitude')\n",
    "data_non['Age average'].plot.hist(bins=5, ax = axes[2], title = 'Age average')\n",
    "data_non['Age of respondent at 1st birth'].plot.hist(bins = 5, ax = axes[3],title = \"Age of respondent at first birth\")\n",
    "plt.tight_layout()"
   ]
  },
  {
   "cell_type": "code",
   "execution_count": null,
   "id": "6537b559",
   "metadata": {
    "execution": {
     "iopub.execute_input": "2024-03-13T12:58:58.367961Z",
     "iopub.status.busy": "2024-03-13T12:58:58.367222Z",
     "iopub.status.idle": "2024-03-13T12:58:58.381703Z",
     "shell.execute_reply": "2024-03-13T12:58:58.380373Z"
    },
    "papermill": {
     "duration": 0.040975,
     "end_time": "2024-03-13T12:58:58.384752",
     "exception": false,
     "start_time": "2024-03-13T12:58:58.343777",
     "status": "completed"
    },
    "tags": []
   },
   "outputs": [],
   "source": [
    "# check Anemia values proportion\n",
    "data_non['Anemia level'].value_counts(normalize=True)\n",
    "# Propotion of target is not balanced"
   ]
  },
  {
   "cell_type": "code",
   "execution_count": null,
   "id": "8371d96f",
   "metadata": {
    "local_metadata": {
     "papermill": {
      "duration": 6.311023,
      "end_time": "2024-03-13T12:59:04.716642",
      "exception": false,
      "start_time": "2024-03-13T12:58:58.405619",
      "status": "completed"
     },
     "tags": []
    },
    "remote_metadata": {
     "execution": {
      "iopub.execute_input": "2024-03-13T12:58:58.429049Z",
      "iopub.status.busy": "2024-03-13T12:58:58.428236Z",
      "iopub.status.idle": "2024-03-13T12:59:04.711058Z",
      "shell.execute_reply": "2024-03-13T12:59:04.70952Z"
     },
     "papermill": {
      "duration": 6.311023,
      "end_time": "2024-03-13T12:59:04.716642",
      "exception": false,
      "start_time": "2024-03-13T12:58:58.405619",
      "status": "completed"
     },
     "tags": []
    }
   },
   "outputs": [],
   "source": [
    "fig,axes = plt.subplots(4,4, figsize = (20,15))\n",
    "axes = axes.flatten()\n",
    "axes[-1].axis('off')\n",
    "for col,ax in zip(data_non.columns,axes):\n",
    "    sns.countplot(data_non, x = col, ax = ax)\n",
    "    value_count = data_non[col].value_counts()\n",
    "plt.tight_layout()"
   ]
  },
  {
   "cell_type": "code",
   "execution_count": null,
   "id": "72e9452d",
   "metadata": {
    "local_metadata": {
     "papermill": {
      "duration": 0.805025,
      "end_time": "2024-03-13T12:59:05.545863",
      "exception": false,
      "start_time": "2024-03-13T12:59:04.740838",
      "status": "completed"
     },
     "tags": []
    },
    "remote_metadata": {
     "execution": {
      "iopub.execute_input": "2024-03-13T12:59:04.767271Z",
      "iopub.status.busy": "2024-03-13T12:59:04.76682Z",
      "iopub.status.idle": "2024-03-13T12:59:05.541407Z",
      "shell.execute_reply": "2024-03-13T12:59:05.537876Z"
     },
     "papermill": {
      "duration": 0.805025,
      "end_time": "2024-03-13T12:59:05.545863",
      "exception": false,
      "start_time": "2024-03-13T12:59:04.740838",
      "status": "completed"
     },
     "tags": []
    }
   },
   "outputs": [],
   "source": [
    "sns.catplot(data=data_non,x='Age average',y='Hemoglobin level adjusted for altitude and smoking (g/dl - 1 decimal)',hue='Anemia')"
   ]
  },
  {
   "cell_type": "code",
   "execution_count": null,
   "id": "9135e45e-cb8e-48e0-b69b-669b90db203a",
   "metadata": {},
   "outputs": [],
   "source": [
    "# Hemoglobin level adjusted for altitude and smoking (g/dl - 1 decimal) is a strong factor \n",
    "# as it shows if a person will have Anemia or not"
   ]
  },
  {
   "cell_type": "code",
   "execution_count": null,
   "id": "414725c6",
   "metadata": {
    "local_metadata": {
     "papermill": {
      "duration": 0.467177,
      "end_time": "2024-03-13T12:59:06.040486",
      "exception": false,
      "start_time": "2024-03-13T12:59:05.573309",
      "status": "completed"
     },
     "tags": []
    },
    "remote_metadata": {
     "execution": {
      "iopub.execute_input": "2024-03-13T12:59:05.602112Z",
      "iopub.status.busy": "2024-03-13T12:59:05.601386Z",
      "iopub.status.idle": "2024-03-13T12:59:06.036952Z",
      "shell.execute_reply": "2024-03-13T12:59:06.035818Z"
     },
     "papermill": {
      "duration": 0.467177,
      "end_time": "2024-03-13T12:59:06.040486",
      "exception": false,
      "start_time": "2024-03-13T12:59:05.573309",
      "status": "completed"
     },
     "tags": []
    }
   },
   "outputs": [],
   "source": [
    "sns.scatterplot(data=data_non,x='Hemoglobin level adjusted for altitude and smoking (g/dl - 1 decimal)',y='Hemoglobin level adjusted for altitude (g/dl - 1 decimal)',hue='Anemia')"
   ]
  },
  {
   "cell_type": "code",
   "execution_count": null,
   "id": "b71466cb",
   "metadata": {},
   "outputs": [],
   "source": [
    "# check Anemia values proportion\n",
    "data_non['Anemia'].value_counts(normalize=True)"
   ]
  },
  {
   "cell_type": "code",
   "execution_count": null,
   "id": "c8f394e3",
   "metadata": {},
   "outputs": [],
   "source": [
    "data_non.dtypes"
   ]
  },
  {
   "cell_type": "code",
   "execution_count": null,
   "id": "fedc24b4",
   "metadata": {
    "execution": {
     "iopub.execute_input": "2024-03-13T12:59:06.100313Z",
     "iopub.status.busy": "2024-03-13T12:59:06.099905Z",
     "iopub.status.idle": "2024-03-13T12:59:06.123359Z",
     "shell.execute_reply": "2024-03-13T12:59:06.122167Z"
    },
    "papermill": {
     "duration": 0.055668,
     "end_time": "2024-03-13T12:59:06.126086",
     "exception": false,
     "start_time": "2024-03-13T12:59:06.070418",
     "status": "completed"
    },
    "tags": []
   },
   "outputs": [],
   "source": [
    "data_non.head()"
   ]
  },
  {
   "cell_type": "code",
   "execution_count": null,
   "id": "a68f3178",
   "metadata": {
    "execution": {
     "iopub.execute_input": "2024-03-13T12:59:06.185592Z",
     "iopub.status.busy": "2024-03-13T12:59:06.184522Z",
     "iopub.status.idle": "2024-03-13T12:59:06.192393Z",
     "shell.execute_reply": "2024-03-13T12:59:06.191475Z"
    },
    "papermill": {
     "duration": 0.040554,
     "end_time": "2024-03-13T12:59:06.194838",
     "exception": false,
     "start_time": "2024-03-13T12:59:06.154284",
     "status": "completed"
    },
    "tags": []
   },
   "outputs": [],
   "source": [
    "num_cols = ['Births in last five years','Hemoglobin level adjusted for altitude (g/dl - 1 decimal)','Hemoglobin level adjusted for altitude and smoking (g/dl - 1 decimal)','Age of respondent at 1st birth']\n",
    "cat_cols = [col for col in data_non.columns if col not in num_cols and col != 'Anemia level']\n",
    "cat_cols"
   ]
  },
  {
   "cell_type": "markdown",
   "id": "09c8662c",
   "metadata": {
    "papermill": {
     "duration": 0.02846,
     "end_time": "2024-03-13T12:59:06.252809",
     "exception": false,
     "start_time": "2024-03-13T12:59:06.224349",
     "status": "completed"
    },
    "tags": []
   },
   "source": [
    "## MODEL"
   ]
  },
  {
   "cell_type": "code",
   "execution_count": null,
   "id": "0ea163ed",
   "metadata": {
    "papermill": {
     "duration": 0.040554,
     "end_time": "2024-03-13T12:59:06.194838",
     "exception": false,
     "start_time": "2024-03-13T12:59:06.154284",
     "status": "completed"
    },
    "tags": []
   },
   "outputs": [],
   "source": [
    "num_cols = ['Births in last five years','Hemoglobin level adjusted for altitude (g/dl - 1 decimal)','Hemoglobin level adjusted for altitude and smoking (g/dl - 1 decimal)','Age of respondent at 1st birth']\n",
    "cat_cols = [col for col in data_non.columns if col not in num_cols and col not in ['Anemia','Anemia level.1']]\n",
    "cat_cols"
   ]
  },
  {
   "cell_type": "code",
   "execution_count": null,
   "id": "6ff4d57f",
   "metadata": {
    "execution": {
     "iopub.execute_input": "2024-03-13T12:59:06.312783Z",
     "iopub.status.busy": "2024-03-13T12:59:06.311949Z",
     "iopub.status.idle": "2024-03-13T12:59:06.90843Z",
     "shell.execute_reply": "2024-03-13T12:59:06.90711Z"
    },
    "papermill": {
     "duration": 0.630139,
     "end_time": "2024-03-13T12:59:06.911688",
     "exception": false,
     "start_time": "2024-03-13T12:59:06.281549",
     "status": "completed"
    },
    "tags": []
   },
   "outputs": [],
   "source": [
    "from sklearn.compose import ColumnTransformer\n",
    "from sklearn.pipeline import make_pipeline,Pipeline\n",
    "from sklearn.ensemble import RandomForestClassifier, RandomForestRegressor\n",
    "from sklearn.model_selection import train_test_split, GridSearchCV\n",
    "from sklearn.preprocessing import LabelEncoder, StandardScaler, OneHotEncoder\n",
    "from sklearn.tree import DecisionTreeClassifier\n",
    "from sklearn.metrics import classification_report, confusion_matrix\n",
    "from sklearn.neighbors import KNeighborsClassifier\n",
    "from sklearn.linear_model import LogisticRegression"
   ]
  },
  {
   "cell_type": "code",
   "execution_count": null,
   "id": "1e13e07d",
   "metadata": {
    "local_metadata": {
     "papermill": {
      "duration": 0.037505,
      "end_time": "2024-03-13T12:59:06.978439",
      "exception": false,
      "start_time": "2024-03-13T12:59:06.940934",
      "status": "completed"
     },
     "tags": []
    },
    "remote_metadata": {
     "execution": {
      "iopub.execute_input": "2024-03-13T12:59:06.971755Z",
      "iopub.status.busy": "2024-03-13T12:59:06.970632Z",
      "iopub.status.idle": "2024-03-13T12:59:06.975936Z",
      "shell.execute_reply": "2024-03-13T12:59:06.974821Z"
     },
     "papermill": {
      "duration": 0.037505,
      "end_time": "2024-03-13T12:59:06.978439",
      "exception": false,
      "start_time": "2024-03-13T12:59:06.940934",
      "status": "completed"
     },
     "tags": []
    }
   },
   "outputs": [],
   "source": [
    "le = LabelEncoder()\n",
    "ss = StandardScaler()"
   ]
  },
  {
   "cell_type": "code",
   "execution_count": null,
   "id": "a16f8ed6",
   "metadata": {
    "execution": {
     "iopub.execute_input": "2024-03-13T11:40:54.752276Z",
     "iopub.status.busy": "2024-03-13T11:40:54.75182Z",
     "iopub.status.idle": "2024-03-13T11:40:54.766122Z",
     "shell.execute_reply": "2024-03-13T11:40:54.764868Z",
     "shell.execute_reply.started": "2024-03-13T11:40:54.752232Z"
    },
    "papermill": {
     "duration": 0.028164,
     "end_time": "2024-03-13T12:59:07.039472",
     "exception": false,
     "start_time": "2024-03-13T12:59:07.011308",
     "status": "completed"
    },
    "tags": []
   },
   "outputs": [],
   "source": []
  },
  {
   "cell_type": "code",
   "execution_count": null,
   "id": "85bb538c",
   "metadata": {
    "execution": {
     "iopub.execute_input": "2024-03-13T12:59:07.098617Z",
     "iopub.status.busy": "2024-03-13T12:59:07.098178Z",
     "iopub.status.idle": "2024-03-13T12:59:07.124411Z",
     "shell.execute_reply": "2024-03-13T12:59:07.123174Z"
    },
    "papermill": {
     "duration": 0.059109,
     "end_time": "2024-03-13T12:59:07.127381",
     "exception": false,
     "start_time": "2024-03-13T12:59:07.068272",
     "status": "completed"
    },
    "tags": []
   },
   "outputs": [],
   "source": [
    "data_non.isna().sum()"
   ]
  },
  {
   "cell_type": "code",
   "execution_count": null,
   "id": "eef71d11",
   "metadata": {
    "local_metadata": {
     "papermill": {
      "duration": 0.048518,
      "end_time": "2024-03-13T12:59:07.204256",
      "exception": false,
      "start_time": "2024-03-13T12:59:07.155738",
      "status": "completed"
     },
     "tags": []
    },
    "remote_metadata": {
     "execution": {
      "iopub.execute_input": "2024-03-13T12:59:07.186299Z",
      "iopub.status.busy": "2024-03-13T12:59:07.185854Z",
      "iopub.status.idle": "2024-03-13T12:59:07.201194Z",
      "shell.execute_reply": "2024-03-13T12:59:07.199797Z"
     },
     "papermill": {
      "duration": 0.048518,
      "end_time": "2024-03-13T12:59:07.204256",
      "exception": false,
      "start_time": "2024-03-13T12:59:07.155738",
      "status": "completed"
     },
     "tags": []
    }
   },
   "outputs": [],
   "source": [
    "# variables for data modelling\n",
    "X = data_non.drop(['Anemia','Anemia level.1'], axis = 1)\n",
    "y = le.fit_transform(data_non['Anemia'])\n"
   ]
  },
  {
   "cell_type": "code",
   "execution_count": null,
   "id": "627b6eee",
   "metadata": {
    "local_metadata": {
     "papermill": {
      "duration": 0.055201,
      "end_time": "2024-03-13T12:59:07.288505",
      "exception": false,
      "start_time": "2024-03-13T12:59:07.233304",
      "status": "completed"
     },
     "tags": []
    },
    "remote_metadata": {
     "execution": {
      "iopub.execute_input": "2024-03-13T12:59:07.264171Z",
      "iopub.status.busy": "2024-03-13T12:59:07.263714Z",
      "iopub.status.idle": "2024-03-13T12:59:07.285458Z",
      "shell.execute_reply": "2024-03-13T12:59:07.284286Z"
     },
     "papermill": {
      "duration": 0.055201,
      "end_time": "2024-03-13T12:59:07.288505",
      "exception": false,
      "start_time": "2024-03-13T12:59:07.233304",
      "status": "completed"
     },
     "tags": []
    }
   },
   "outputs": [],
   "source": [
    "X_train,X_test, y_train, y_test = train_test_split(X,y, test_size=0.2, shuffle=True, random_state = 12, stratify=y)"
   ]
  },
  {
   "cell_type": "code",
   "execution_count": null,
   "id": "ba0f659d",
   "metadata": {
    "local_metadata": {
     "papermill": {
      "duration": 0.038589,
      "end_time": "2024-03-13T12:59:07.356191",
      "exception": false,
      "start_time": "2024-03-13T12:59:07.317602",
      "status": "completed"
     },
     "tags": []
    },
    "remote_metadata": {
     "execution": {
      "iopub.execute_input": "2024-03-13T12:59:07.348088Z",
      "iopub.status.busy": "2024-03-13T12:59:07.347647Z",
      "iopub.status.idle": "2024-03-13T12:59:07.353499Z",
      "shell.execute_reply": "2024-03-13T12:59:07.352407Z"
     },
     "papermill": {
      "duration": 0.038589,
      "end_time": "2024-03-13T12:59:07.356191",
      "exception": false,
      "start_time": "2024-03-13T12:59:07.317602",
      "status": "completed"
     },
     "tags": []
    }
   },
   "outputs": [],
   "source": [
    "cat_transformer = make_pipeline(OneHotEncoder(handle_unknown='ignore'))\n",
    "num_transformer = make_pipeline(StandardScaler())\n",
    "preprocessor = ColumnTransformer([('categories',cat_transformer, cat_cols),('numerical',num_transformer,num_cols)])"
   ]
  },
  {
   "cell_type": "code",
   "execution_count": null,
   "id": "434ec39c",
   "metadata": {
    "local_metadata": {
     "papermill": {
      "duration": 0.037985,
      "end_time": "2024-03-13T12:59:07.422106",
      "exception": false,
      "start_time": "2024-03-13T12:59:07.384121",
      "status": "completed"
     },
     "tags": []
    },
    "remote_metadata": {
     "execution": {
      "iopub.execute_input": "2024-03-13T12:59:07.415526Z",
      "iopub.status.busy": "2024-03-13T12:59:07.415155Z",
      "iopub.status.idle": "2024-03-13T12:59:07.419675Z",
      "shell.execute_reply": "2024-03-13T12:59:07.418847Z"
     },
     "papermill": {
      "duration": 0.037985,
      "end_time": "2024-03-13T12:59:07.422106",
      "exception": false,
      "start_time": "2024-03-13T12:59:07.384121",
      "status": "completed"
     },
     "tags": []
    }
   },
   "outputs": [],
   "source": [
    "models = {'rf':RandomForestClassifier(),'log_regression':LogisticRegression(),'knn':KNeighborsClassifier()}"
   ]
  },
  {
   "cell_type": "code",
   "execution_count": null,
   "id": "a5f430fb",
   "metadata": {
    "local_metadata": {
     "papermill": {
      "duration": 2.22936,
      "end_time": "2024-03-13T12:59:09.679579",
      "exception": false,
      "start_time": "2024-03-13T12:59:07.450219",
      "status": "completed"
     },
     "tags": []
    },
    "remote_metadata": {
     "execution": {
      "iopub.execute_input": "2024-03-13T12:59:07.482164Z",
      "iopub.status.busy": "2024-03-13T12:59:07.481633Z",
      "iopub.status.idle": "2024-03-13T12:59:09.676775Z",
      "shell.execute_reply": "2024-03-13T12:59:09.675751Z"
     },
     "papermill": {
      "duration": 2.22936,
      "end_time": "2024-03-13T12:59:09.679579",
      "exception": false,
      "start_time": "2024-03-13T12:59:07.450219",
      "status": "completed"
     },
     "tags": []
    }
   },
   "outputs": [],
   "source": [
    "model_res = {}\n",
    "for name,model in models.items():\n",
    "    pipe = Pipeline([('preprocessor', preprocessor),(name,model)]) \n",
    "    model_res[name] = pipe.fit(X_train,y_train)\n",
    "    print(f\"{model} done !\")\n"
   ]
  },
  {
   "cell_type": "code",
   "execution_count": null,
   "id": "65d1301c",
   "metadata": {
    "local_metadata": {
     "papermill": {
      "duration": 0.593826,
      "end_time": "2024-03-13T12:59:10.301002",
      "exception": false,
      "start_time": "2024-03-13T12:59:09.707176",
      "status": "completed"
     },
     "tags": []
    },
    "remote_metadata": {
     "execution": {
      "iopub.execute_input": "2024-03-13T12:59:09.737129Z",
      "iopub.status.busy": "2024-03-13T12:59:09.736295Z",
      "iopub.status.idle": "2024-03-13T12:59:10.297975Z",
      "shell.execute_reply": "2024-03-13T12:59:10.296343Z"
     },
     "papermill": {
      "duration": 0.593826,
      "end_time": "2024-03-13T12:59:10.301002",
      "exception": false,
      "start_time": "2024-03-13T12:59:09.707176",
      "status": "completed"
     },
     "tags": []
    }
   },
   "outputs": [],
   "source": [
    "for name,model in model_res.items():\n",
    "    print(f'{name:20s}: {model.score(X_test,y_test)}')"
   ]
  },
  {
   "cell_type": "code",
   "execution_count": null,
   "id": "b0106b8b",
   "metadata": {
    "local_metadata": {
     "papermill": {
      "duration": 0.130453,
      "end_time": "2024-03-13T12:59:10.460982",
      "exception": false,
      "start_time": "2024-03-13T12:59:10.330529",
      "status": "completed"
     },
     "tags": []
    },
    "remote_metadata": {
     "execution": {
      "iopub.execute_input": "2024-03-13T12:59:10.363074Z",
      "iopub.status.busy": "2024-03-13T12:59:10.362101Z",
      "iopub.status.idle": "2024-03-13T12:59:10.457737Z",
      "shell.execute_reply": "2024-03-13T12:59:10.456024Z"
     },
     "papermill": {
      "duration": 0.130453,
      "end_time": "2024-03-13T12:59:10.460982",
      "exception": false,
      "start_time": "2024-03-13T12:59:10.330529",
      "status": "completed"
     },
     "tags": []
    }
   },
   "outputs": [],
   "source": [
    "y_pred = model_res['rf'].predict(X_test)"
   ]
  },
  {
   "cell_type": "code",
   "execution_count": null,
   "id": "e3652374",
   "metadata": {
    "local_metadata": {
     "papermill": {
      "duration": 0.039427,
      "end_time": "2024-03-13T12:59:10.529371",
      "exception": false,
      "start_time": "2024-03-13T12:59:10.489944",
      "status": "completed"
     },
     "tags": []
    },
    "remote_metadata": {
     "execution": {
      "iopub.execute_input": "2024-03-13T12:59:10.520166Z",
      "iopub.status.busy": "2024-03-13T12:59:10.519689Z",
      "iopub.status.idle": "2024-03-13T12:59:10.526874Z",
      "shell.execute_reply": "2024-03-13T12:59:10.525928Z"
     },
     "papermill": {
      "duration": 0.039427,
      "end_time": "2024-03-13T12:59:10.529371",
      "exception": false,
      "start_time": "2024-03-13T12:59:10.489944",
      "status": "completed"
     },
     "tags": []
    }
   },
   "outputs": [],
   "source": [
    "cm_rf = confusion_matrix(y_test,y_pred)"
   ]
  },
  {
   "cell_type": "code",
   "execution_count": null,
   "id": "dcede747",
   "metadata": {
    "execution": {
     "iopub.execute_input": "2024-03-13T12:59:10.59079Z",
     "iopub.status.busy": "2024-03-13T12:59:10.59002Z",
     "iopub.status.idle": "2024-03-13T12:59:10.594446Z",
     "shell.execute_reply": "2024-03-13T12:59:10.593608Z"
    },
    "papermill": {
     "duration": 0.039166,
     "end_time": "2024-03-13T12:59:10.596743",
     "exception": false,
     "start_time": "2024-03-13T12:59:10.557577",
     "status": "completed"
    },
    "tags": []
   },
   "outputs": [],
   "source": [
    "from sklearn.tree import DecisionTreeClassifier"
   ]
  },
  {
   "cell_type": "code",
   "execution_count": null,
   "id": "eedf981f",
   "metadata": {
    "local_metadata": {
     "papermill": {
      "duration": 617.938177,
      "end_time": "2024-03-13T13:09:28.564447",
      "exception": false,
      "start_time": "2024-03-13T12:59:10.62627",
      "status": "completed"
     },
     "tags": []
    },
    "remote_metadata": {
     "execution": {
      "iopub.execute_input": "2024-03-13T12:59:10.657736Z",
      "iopub.status.busy": "2024-03-13T12:59:10.657006Z",
      "iopub.status.idle": "2024-03-13T13:09:28.532675Z",
      "shell.execute_reply": "2024-03-13T13:09:28.531175Z"
     },
     "papermill": {
      "duration": 617.938177,
      "end_time": "2024-03-13T13:09:28.564447",
      "exception": false,
      "start_time": "2024-03-13T12:59:10.62627",
      "status": "completed"
     },
     "tags": []
    }
   },
   "outputs": [],
   "source": [
    "param_grid = {\n",
    "    'estimator__n_estimators': [100, 200, 300],  # Number of trees in the forest\n",
    "    'estimator__max_depth': [10, 20, 30],  # Maximum depth of the tree\n",
    "    'estimator__min_samples_split': [2, 5, 10],  # Minimum number of samples required to split an internal node\n",
    "    'estimator__min_samples_leaf': [1, 2, 4],  # Minimum number of samples required to be at a leaf node\n",
    "    'estimator__bootstrap': [True, False]  # Method for sampling data points\n",
    "}\n",
    "grid_pipe = Pipeline([('preprocessor',preprocessor),('estimator',RandomForestClassifier(random_state=11))])\n",
    "rf_grid = GridSearchCV(grid_pipe, param_grid=param_grid,n_jobs=-1,cv=5, error_score='raise')\n",
    "rf_grid.fit(X_train,y_train)"
   ]
  },
  {
   "cell_type": "code",
   "execution_count": null,
   "id": "df6b1351",
   "metadata": {
    "local_metadata": {
     "papermill": {
      "duration": 0.260209,
      "end_time": "2024-03-13T13:09:28.855381",
      "exception": false,
      "start_time": "2024-03-13T13:09:28.595172",
      "status": "completed"
     },
     "tags": []
    },
    "remote_metadata": {
     "execution": {
      "iopub.execute_input": "2024-03-13T13:09:28.626942Z",
      "iopub.status.busy": "2024-03-13T13:09:28.62641Z",
      "iopub.status.idle": "2024-03-13T13:09:28.852589Z",
      "shell.execute_reply": "2024-03-13T13:09:28.851185Z"
     },
     "papermill": {
      "duration": 0.260209,
      "end_time": "2024-03-13T13:09:28.855381",
      "exception": false,
      "start_time": "2024-03-13T13:09:28.595172",
      "status": "completed"
     },
     "tags": []
    }
   },
   "outputs": [],
   "source": [
    "rf_grid.score(X_test,y_test)"
   ]
  },
  {
   "cell_type": "code",
   "execution_count": null,
   "id": "fbd5ed7b-b912-45c8-b013-d4a8e0965f96",
   "metadata": {},
   "outputs": [],
   "source": [
    "best_rf_grid = rf_grid.best_estimator_[1].get_params()"
   ]
  },
  {
   "cell_type": "code",
   "execution_count": null,
   "id": "5ac3fc37-9c1a-425c-9fea-a14c7f3fc7e1",
   "metadata": {},
   "outputs": [],
   "source": [
    "rf_pipe = make_pipeline(preprocessor,RandomForestClassifier(**best_rf_grid))\n",
    "rf_pipe.fit(X_train,y_train)"
   ]
  },
  {
   "cell_type": "code",
   "execution_count": null,
   "id": "7171f965",
   "metadata": {
    "execution": {
     "iopub.execute_input": "2024-03-13T13:09:28.919474Z",
     "iopub.status.busy": "2024-03-13T13:09:28.918596Z",
     "iopub.status.idle": "2024-03-13T13:09:28.926441Z",
     "shell.execute_reply": "2024-03-13T13:09:28.92518Z"
    },
    "papermill": {
     "duration": 0.043085,
     "end_time": "2024-03-13T13:09:28.929133",
     "exception": false,
     "start_time": "2024-03-13T13:09:28.886048",
     "status": "completed"
    },
    "tags": []
   },
   "outputs": [],
   "source": [
    "best_rf_grid = rf_grid.best_params_\n",
    "best_rf_grid"
   ]
  },
  {
   "cell_type": "code",
   "execution_count": null,
   "id": "a1bef751",
   "metadata": {
    "local_metadata": {
     "papermill": {
      "duration": 0.260152,
      "end_time": "2024-03-13T13:09:29.220604",
      "exception": false,
      "start_time": "2024-03-13T13:09:28.960452",
      "status": "completed"
     },
     "tags": []
    },
    "remote_metadata": {
     "execution": {
      "iopub.execute_input": "2024-03-13T13:09:28.994395Z",
      "iopub.status.busy": "2024-03-13T13:09:28.993993Z",
      "iopub.status.idle": "2024-03-13T13:09:29.217479Z",
      "shell.execute_reply": "2024-03-13T13:09:29.216095Z"
     },
     "papermill": {
      "duration": 0.260152,
      "end_time": "2024-03-13T13:09:29.220604",
      "exception": false,
      "start_time": "2024-03-13T13:09:28.960452",
      "status": "completed"
     },
     "tags": []
    }
   },
   "outputs": [],
   "source": [
    "y_pred = rf_pipe.predict(X_test)"
   ]
  },
  {
   "cell_type": "code",
   "execution_count": null,
   "id": "24372560",
   "metadata": {
    "local_metadata": {
     "papermill": {
      "duration": 0.041733,
      "end_time": "2024-03-13T13:09:29.292994",
      "exception": false,
      "start_time": "2024-03-13T13:09:29.251261",
      "status": "completed"
     },
     "tags": []
    },
    "remote_metadata": {
     "execution": {
      "iopub.execute_input": "2024-03-13T13:09:29.283733Z",
      "iopub.status.busy": "2024-03-13T13:09:29.283329Z",
      "iopub.status.idle": "2024-03-13T13:09:29.290317Z",
      "shell.execute_reply": "2024-03-13T13:09:29.289219Z"
     },
     "papermill": {
      "duration": 0.041733,
      "end_time": "2024-03-13T13:09:29.292994",
      "exception": false,
      "start_time": "2024-03-13T13:09:29.251261",
      "status": "completed"
     },
     "tags": []
    }
   },
   "outputs": [],
   "source": [
    "cm = confusion_matrix(y_test,y_pred)"
   ]
  },
  {
   "cell_type": "code",
   "execution_count": null,
   "id": "54c22f23",
   "metadata": {
    "local_metadata": {
     "papermill": {
      "duration": 0.393078,
      "end_time": "2024-03-13T13:09:29.716498",
      "exception": false,
      "start_time": "2024-03-13T13:09:29.32342",
      "status": "completed"
     },
     "tags": []
    },
    "remote_metadata": {
     "execution": {
      "iopub.execute_input": "2024-03-13T13:09:29.356316Z",
      "iopub.status.busy": "2024-03-13T13:09:29.355922Z",
      "iopub.status.idle": "2024-03-13T13:09:29.713324Z",
      "shell.execute_reply": "2024-03-13T13:09:29.712112Z"
     },
     "papermill": {
      "duration": 0.393078,
      "end_time": "2024-03-13T13:09:29.716498",
      "exception": false,
      "start_time": "2024-03-13T13:09:29.32342",
      "status": "completed"
     },
     "tags": []
    }
   },
   "outputs": [],
   "source": [
    "sns.heatmap(cm, annot = True,fmt = 'd',xticklabels= le.classes_, yticklabels= le.classes_, cmap=sns.color_palette(\"plasma\"),linecolor='green',linewidths=.5)\n",
    "plt.title('Confusion Matrix of Children Anemic Level Model')\n",
    "plt.ylabel('True Label')\n",
    "plt.xlabel('Prediction Label')\n",
    "plt.show()"
   ]
  },
  {
   "cell_type": "code",
   "execution_count": null,
   "id": "96f8115e",
   "metadata": {
    "local_metadata": {
     "papermill": {
      "duration": 0.055359,
      "end_time": "2024-03-13T13:09:29.804059",
      "exception": false,
      "start_time": "2024-03-13T13:09:29.7487",
      "status": "completed"
     },
     "tags": []
    },
    "remote_metadata": {
     "execution": {
      "iopub.execute_input": "2024-03-13T13:09:29.783015Z",
      "iopub.status.busy": "2024-03-13T13:09:29.781904Z",
      "iopub.status.idle": "2024-03-13T13:09:29.801491Z",
      "shell.execute_reply": "2024-03-13T13:09:29.800389Z"
     },
     "papermill": {
      "duration": 0.055359,
      "end_time": "2024-03-13T13:09:29.804059",
      "exception": false,
      "start_time": "2024-03-13T13:09:29.7487",
      "status": "completed"
     },
     "tags": []
    }
   },
   "outputs": [],
   "source": [
    "print(classification_report(y_test,y_pred))"
   ]
  },
  {
   "cell_type": "code",
   "execution_count": null,
   "id": "5e980cce-41c0-43e7-a554-2cf039e0f2dd",
   "metadata": {},
   "outputs": [],
   "source": [
    "feature_names = [x.split('__')[1] for x in preprocessor.get_feature_names_out()]"
   ]
  },
  {
   "cell_type": "code",
   "execution_count": null,
   "id": "b7b2fb5c-db5f-4a5a-bb85-d9af3ba1be90",
   "metadata": {},
   "outputs": [],
   "source": [
    "rf_model_step = rf_pipe.steps[1][1]\n",
    "feat_imp = pd.DataFrame({'feature':feature_names, 'importances':rf_model_step.feature_importances_}).sort_values(by='importances', ascending=False)\n",
    "feat_imp"
   ]
  },
  {
   "cell_type": "code",
   "execution_count": null,
   "id": "1089bea7-c552-4fd7-9d81-92d477241f5d",
   "metadata": {},
   "outputs": [],
   "source": [
    "sns.barplot(data = feat_imp.iloc[:10],y= 'feature', x='importances').set_title('Top10 Feature Importances')"
   ]
  }
 ],
 "metadata": {
  "kaggle": {
   "accelerator": "none",
   "dataSources": [
    {
     "datasetId": 3913345,
     "sourceId": 6801499,
     "sourceType": "datasetVersion"
    }
   ],
   "dockerImageVersionId": 30579,
   "isGpuEnabled": false,
   "isInternetEnabled": true,
   "language": "python",
   "sourceType": "notebook"
  },
  "kernelspec": {
   "display_name": "base",
   "language": "python",
   "name": "python3"
  },
  "language_info": {
   "codemirror_mode": {
    "name": "ipython",
    "version": 3
   },
   "file_extension": ".py",
   "mimetype": "text/x-python",
   "name": "python",
   "nbconvert_exporter": "python",
   "pygments_lexer": "ipython3",
   "version": "3.11.7"
  },
  "nbdime-conflicts": {
   "local_diff": [
    {
     "key": "kernelspec",
     "op": "add",
     "value": {
      "display_name": "Python 3 (ipykernel)",
      "language": "python",
      "name": "python3"
     }
    },
    {
     "key": "language_info",
     "op": "add",
     "value": {
      "codemirror_mode": {
       "name": "ipython",
       "version": 3
      },
      "file_extension": ".py",
      "mimetype": "text/x-python",
      "name": "python",
      "nbconvert_exporter": "python",
      "pygments_lexer": "ipython3",
      "version": "3.11.7"
     }
    }
   ],
   "remote_diff": [
    {
     "key": "kernelspec",
     "op": "add",
     "value": {
      "display_name": "Python 3",
      "language": "python",
      "name": "python3"
     }
    },
    {
     "key": "language_info",
     "op": "add",
     "value": {
      "codemirror_mode": {
       "name": "ipython",
       "version": 3
      },
      "file_extension": ".py",
      "mimetype": "text/x-python",
      "name": "python",
      "nbconvert_exporter": "python",
      "pygments_lexer": "ipython3",
      "version": "3.10.12"
     }
    }
   ]
  },
  "papermill": {
   "default_parameters": {},
   "duration": 646.13893,
   "end_time": "2024-03-13T13:09:32.523086",
   "environment_variables": {},
   "exception": null,
   "input_path": "__notebook__.ipynb",
   "output_path": "__notebook__.ipynb",
   "parameters": {},
   "start_time": "2024-03-13T12:58:46.384156",
   "version": "2.4.0"
  }
 },
 "nbformat": 4,
 "nbformat_minor": 5
}
